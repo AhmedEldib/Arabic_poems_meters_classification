{
 "metadata": {
  "language_info": {
   "codemirror_mode": {
    "name": "ipython",
    "version": 3
   },
   "file_extension": ".py",
   "mimetype": "text/x-python",
   "name": "python",
   "nbconvert_exporter": "python",
   "pygments_lexer": "ipython3",
   "version": "3.7.4"
  },
  "orig_nbformat": 2,
  "kernelspec": {
   "name": "python374jvsc74a57bd0a1b4f4b5b59d091f24ed8aad52614a3516ad0de64d607555a43675d2b4fd5eeb",
   "display_name": "Python 3.7.4 64-bit ('base': conda)"
  }
 },
 "nbformat": 4,
 "nbformat_minor": 2,
 "cells": [
  {
   "cell_type": "code",
   "execution_count": 31,
   "metadata": {},
   "outputs": [],
   "source": [
    "import pandas as pd \n",
    "import numpy as np\n",
    "import re"
   ]
  },
  {
   "cell_type": "code",
   "execution_count": 2,
   "metadata": {},
   "outputs": [
    {
     "output_type": "execute_result",
     "data": {
      "text/plain": [
       "               العصر             الشاعر          الديوان القافية   البحر  \\\n",
       "0        قبل الإسلام  عمرو بنِ قُمَيئَة  الديوان الرئيسي       د  الطويل   \n",
       "1        قبل الإسلام  عمرو بنِ قُمَيئَة  الديوان الرئيسي       د  الطويل   \n",
       "2        قبل الإسلام  عمرو بنِ قُمَيئَة  الديوان الرئيسي       د  الطويل   \n",
       "3        قبل الإسلام  عمرو بنِ قُمَيئَة  الديوان الرئيسي       د  الطويل   \n",
       "4        قبل الإسلام  عمرو بنِ قُمَيئَة  الديوان الرئيسي       د  الطويل   \n",
       "...              ...                ...              ...     ...     ...   \n",
       "1493081         حديث                NaN           النهار     NaN     نثر   \n",
       "1493082         حديث                NaN           النهار     NaN     نثر   \n",
       "1493083         حديث                NaN           النهار     NaN     نثر   \n",
       "1493084         حديث                NaN           النهار     NaN     نثر   \n",
       "1493085         حديث                NaN           النهار     NaN     نثر   \n",
       "\n",
       "                                  الشطر الايسر  \\\n",
       "0         وَأَن تَجمَعا شَملي وَتَنتَظِرا غَدا   \n",
       "1        وَلا سُرعَتي يَوماً بِسابِقَةِ الرَدى   \n",
       "2        وَتَستَوجِبا مَنّاً عَلَيَّ وَتُحمَدا   \n",
       "3          تُؤامِرُني سِرّاً لِأَصرِمَ مَرثَدا   \n",
       "4         وَأَفرَعَ في لَومي مِراراً وَأَصعَدا   \n",
       "...                                        ...   \n",
       "1493081                                    NaN   \n",
       "1493082                                    NaN   \n",
       "1493083                                    NaN   \n",
       "1493084                                    NaN   \n",
       "1493085                                    NaN   \n",
       "\n",
       "                                   الشطر الايمن  \\\n",
       "0         خَليلَيَّ لا تَستَعجِلا أَن تَزَوَّدا   \n",
       "1           فَما لَبَثٌ يَوماً بِسابِقٍ مَغنَمٍ   \n",
       "2        وَإِن تُنظِراني اليَومَ أَقضِ لُبانَةً   \n",
       "3            لَعَمرُكَ ما نَفسٌ بِجِدٍ رَشيدَةٍ   \n",
       "4          وَإِن ظَهَرَت مِنهُ قَوارِصُ جَمَّةٌ   \n",
       "...                                         ...   \n",
       "1493081                                     NaN   \n",
       "1493082                                     NaN   \n",
       "1493083                                     NaN   \n",
       "1493084                                     NaN   \n",
       "1493085                                     NaN   \n",
       "\n",
       "                                                     البيت  \n",
       "0        خَليلَيَّ لا تَستَعجِلا أَن تَزَوَّدا    وَأَن...  \n",
       "1        فَما لَبَثٌ يَوماً بِسابِقٍ مَغنَمٍ    وَلا سُ...  \n",
       "2        وَإِن تُنظِراني اليَومَ أَقضِ لُبانَةً    وَتَ...  \n",
       "3        لَعَمرُكَ ما نَفسٌ بِجِدٍ رَشيدَةٍ    تُؤامِرُ...  \n",
       "4        وَإِن ظَهَرَت مِنهُ قَوارِصُ جَمَّةٌ    وَأَفر...  \n",
       "...                                                    ...  \n",
       "1493081                  وَاِعْتَرَفَ المُدَّعَى عَلَيهِ ح  \n",
       "1493082  بَعْدَ تَوْقِيفِهِ بِالجُرْمِ المُسْنَدِ إِلَي...  \n",
       "1493083  نافِياً إِقْدامَهُ عَلَى التَّعَرُّضِ لِلمُدَّ...  \n",
       "1493084  وَأَنَّهُما ظَلّا فِي اِنْتِظارِهِ أَمامَ المَ...  \n",
       "1493085           وَنَفَيا اِشْتِراكَهُما فِي الاِعْتِداءِ  \n",
       "\n",
       "[1493086 rows x 8 columns]"
      ],
      "text/html": "<div>\n<style scoped>\n    .dataframe tbody tr th:only-of-type {\n        vertical-align: middle;\n    }\n\n    .dataframe tbody tr th {\n        vertical-align: top;\n    }\n\n    .dataframe thead th {\n        text-align: right;\n    }\n</style>\n<table border=\"1\" class=\"dataframe\">\n  <thead>\n    <tr style=\"text-align: right;\">\n      <th></th>\n      <th>العصر</th>\n      <th>الشاعر</th>\n      <th>الديوان</th>\n      <th>القافية</th>\n      <th>البحر</th>\n      <th>الشطر الايسر</th>\n      <th>الشطر الايمن</th>\n      <th>البيت</th>\n    </tr>\n  </thead>\n  <tbody>\n    <tr>\n      <th>0</th>\n      <td>قبل الإسلام</td>\n      <td>عمرو بنِ قُمَيئَة</td>\n      <td>الديوان الرئيسي</td>\n      <td>د</td>\n      <td>الطويل</td>\n      <td>وَأَن تَجمَعا شَملي وَتَنتَظِرا غَدا</td>\n      <td>خَليلَيَّ لا تَستَعجِلا أَن تَزَوَّدا</td>\n      <td>خَليلَيَّ لا تَستَعجِلا أَن تَزَوَّدا    وَأَن...</td>\n    </tr>\n    <tr>\n      <th>1</th>\n      <td>قبل الإسلام</td>\n      <td>عمرو بنِ قُمَيئَة</td>\n      <td>الديوان الرئيسي</td>\n      <td>د</td>\n      <td>الطويل</td>\n      <td>وَلا سُرعَتي يَوماً بِسابِقَةِ الرَدى</td>\n      <td>فَما لَبَثٌ يَوماً بِسابِقٍ مَغنَمٍ</td>\n      <td>فَما لَبَثٌ يَوماً بِسابِقٍ مَغنَمٍ    وَلا سُ...</td>\n    </tr>\n    <tr>\n      <th>2</th>\n      <td>قبل الإسلام</td>\n      <td>عمرو بنِ قُمَيئَة</td>\n      <td>الديوان الرئيسي</td>\n      <td>د</td>\n      <td>الطويل</td>\n      <td>وَتَستَوجِبا مَنّاً عَلَيَّ وَتُحمَدا</td>\n      <td>وَإِن تُنظِراني اليَومَ أَقضِ لُبانَةً</td>\n      <td>وَإِن تُنظِراني اليَومَ أَقضِ لُبانَةً    وَتَ...</td>\n    </tr>\n    <tr>\n      <th>3</th>\n      <td>قبل الإسلام</td>\n      <td>عمرو بنِ قُمَيئَة</td>\n      <td>الديوان الرئيسي</td>\n      <td>د</td>\n      <td>الطويل</td>\n      <td>تُؤامِرُني سِرّاً لِأَصرِمَ مَرثَدا</td>\n      <td>لَعَمرُكَ ما نَفسٌ بِجِدٍ رَشيدَةٍ</td>\n      <td>لَعَمرُكَ ما نَفسٌ بِجِدٍ رَشيدَةٍ    تُؤامِرُ...</td>\n    </tr>\n    <tr>\n      <th>4</th>\n      <td>قبل الإسلام</td>\n      <td>عمرو بنِ قُمَيئَة</td>\n      <td>الديوان الرئيسي</td>\n      <td>د</td>\n      <td>الطويل</td>\n      <td>وَأَفرَعَ في لَومي مِراراً وَأَصعَدا</td>\n      <td>وَإِن ظَهَرَت مِنهُ قَوارِصُ جَمَّةٌ</td>\n      <td>وَإِن ظَهَرَت مِنهُ قَوارِصُ جَمَّةٌ    وَأَفر...</td>\n    </tr>\n    <tr>\n      <th>...</th>\n      <td>...</td>\n      <td>...</td>\n      <td>...</td>\n      <td>...</td>\n      <td>...</td>\n      <td>...</td>\n      <td>...</td>\n      <td>...</td>\n    </tr>\n    <tr>\n      <th>1493081</th>\n      <td>حديث</td>\n      <td>NaN</td>\n      <td>النهار</td>\n      <td>NaN</td>\n      <td>نثر</td>\n      <td>NaN</td>\n      <td>NaN</td>\n      <td>وَاِعْتَرَفَ المُدَّعَى عَلَيهِ ح</td>\n    </tr>\n    <tr>\n      <th>1493082</th>\n      <td>حديث</td>\n      <td>NaN</td>\n      <td>النهار</td>\n      <td>NaN</td>\n      <td>نثر</td>\n      <td>NaN</td>\n      <td>NaN</td>\n      <td>بَعْدَ تَوْقِيفِهِ بِالجُرْمِ المُسْنَدِ إِلَي...</td>\n    </tr>\n    <tr>\n      <th>1493083</th>\n      <td>حديث</td>\n      <td>NaN</td>\n      <td>النهار</td>\n      <td>NaN</td>\n      <td>نثر</td>\n      <td>NaN</td>\n      <td>NaN</td>\n      <td>نافِياً إِقْدامَهُ عَلَى التَّعَرُّضِ لِلمُدَّ...</td>\n    </tr>\n    <tr>\n      <th>1493084</th>\n      <td>حديث</td>\n      <td>NaN</td>\n      <td>النهار</td>\n      <td>NaN</td>\n      <td>نثر</td>\n      <td>NaN</td>\n      <td>NaN</td>\n      <td>وَأَنَّهُما ظَلّا فِي اِنْتِظارِهِ أَمامَ المَ...</td>\n    </tr>\n    <tr>\n      <th>1493085</th>\n      <td>حديث</td>\n      <td>NaN</td>\n      <td>النهار</td>\n      <td>NaN</td>\n      <td>نثر</td>\n      <td>NaN</td>\n      <td>NaN</td>\n      <td>وَنَفَيا اِشْتِراكَهُما فِي الاِعْتِداءِ</td>\n    </tr>\n  </tbody>\n</table>\n<p>1493086 rows × 8 columns</p>\n</div>"
     },
     "metadata": {},
     "execution_count": 2
    }
   ],
   "source": [
    "data = pd.read_csv(\"data.csv\")\n",
    "data"
   ]
  },
  {
   "cell_type": "code",
   "execution_count": 11,
   "metadata": {},
   "outputs": [
    {
     "output_type": "execute_result",
     "data": {
      "text/plain": [
       "         labels                                               data\n",
       "0        الطويل  خَليلَيَّ لا تَستَعجِلا أَن تَزَوَّدا    وَأَن...\n",
       "1        الطويل  فَما لَبَثٌ يَوماً بِسابِقٍ مَغنَمٍ    وَلا سُ...\n",
       "2        الطويل  وَإِن تُنظِراني اليَومَ أَقضِ لُبانَةً    وَتَ...\n",
       "3        الطويل  لَعَمرُكَ ما نَفسٌ بِجِدٍ رَشيدَةٍ    تُؤامِرُ...\n",
       "4        الطويل  وَإِن ظَهَرَت مِنهُ قَوارِصُ جَمَّةٌ    وَأَفر...\n",
       "...         ...                                                ...\n",
       "1493081     نثر                  وَاِعْتَرَفَ المُدَّعَى عَلَيهِ ح\n",
       "1493082     نثر  بَعْدَ تَوْقِيفِهِ بِالجُرْمِ المُسْنَدِ إِلَي...\n",
       "1493083     نثر  نافِياً إِقْدامَهُ عَلَى التَّعَرُّضِ لِلمُدَّ...\n",
       "1493084     نثر  وَأَنَّهُما ظَلّا فِي اِنْتِظارِهِ أَمامَ المَ...\n",
       "1493085     نثر           وَنَفَيا اِشْتِراكَهُما فِي الاِعْتِداءِ\n",
       "\n",
       "[1493086 rows x 2 columns]"
      ],
      "text/html": "<div>\n<style scoped>\n    .dataframe tbody tr th:only-of-type {\n        vertical-align: middle;\n    }\n\n    .dataframe tbody tr th {\n        vertical-align: top;\n    }\n\n    .dataframe thead th {\n        text-align: right;\n    }\n</style>\n<table border=\"1\" class=\"dataframe\">\n  <thead>\n    <tr style=\"text-align: right;\">\n      <th></th>\n      <th>labels</th>\n      <th>data</th>\n    </tr>\n  </thead>\n  <tbody>\n    <tr>\n      <th>0</th>\n      <td>الطويل</td>\n      <td>خَليلَيَّ لا تَستَعجِلا أَن تَزَوَّدا    وَأَن...</td>\n    </tr>\n    <tr>\n      <th>1</th>\n      <td>الطويل</td>\n      <td>فَما لَبَثٌ يَوماً بِسابِقٍ مَغنَمٍ    وَلا سُ...</td>\n    </tr>\n    <tr>\n      <th>2</th>\n      <td>الطويل</td>\n      <td>وَإِن تُنظِراني اليَومَ أَقضِ لُبانَةً    وَتَ...</td>\n    </tr>\n    <tr>\n      <th>3</th>\n      <td>الطويل</td>\n      <td>لَعَمرُكَ ما نَفسٌ بِجِدٍ رَشيدَةٍ    تُؤامِرُ...</td>\n    </tr>\n    <tr>\n      <th>4</th>\n      <td>الطويل</td>\n      <td>وَإِن ظَهَرَت مِنهُ قَوارِصُ جَمَّةٌ    وَأَفر...</td>\n    </tr>\n    <tr>\n      <th>...</th>\n      <td>...</td>\n      <td>...</td>\n    </tr>\n    <tr>\n      <th>1493081</th>\n      <td>نثر</td>\n      <td>وَاِعْتَرَفَ المُدَّعَى عَلَيهِ ح</td>\n    </tr>\n    <tr>\n      <th>1493082</th>\n      <td>نثر</td>\n      <td>بَعْدَ تَوْقِيفِهِ بِالجُرْمِ المُسْنَدِ إِلَي...</td>\n    </tr>\n    <tr>\n      <th>1493083</th>\n      <td>نثر</td>\n      <td>نافِياً إِقْدامَهُ عَلَى التَّعَرُّضِ لِلمُدَّ...</td>\n    </tr>\n    <tr>\n      <th>1493084</th>\n      <td>نثر</td>\n      <td>وَأَنَّهُما ظَلّا فِي اِنْتِظارِهِ أَمامَ المَ...</td>\n    </tr>\n    <tr>\n      <th>1493085</th>\n      <td>نثر</td>\n      <td>وَنَفَيا اِشْتِراكَهُما فِي الاِعْتِداءِ</td>\n    </tr>\n  </tbody>\n</table>\n<p>1493086 rows × 2 columns</p>\n</div>"
     },
     "metadata": {},
     "execution_count": 11
    }
   ],
   "source": [
    "f = data.rename(columns={\"البيت\": 'data', \"البحر\": 'labels'})[[\"labels\", 'data']]\n",
    "f"
   ]
  },
  {
   "cell_type": "code",
   "execution_count": 12,
   "metadata": {},
   "outputs": [],
   "source": [
    "labels_map = {'السريع' : 0, 'الكامل' : 1, 'المتقارب' : 2, 'المتدارك': 3,\n",
    "                'المنسرح' : 4, 'المديد' : 5, 'المجتث' : 6, 'الرمل' : 7, 'البسيط' : 8,\n",
    "                'الخفيف': 9, 'الطويل' : 10, 'الوافر' : 11, 'الهزج' : 12, 'الرجز' : 13}"
   ]
  },
  {
   "cell_type": "code",
   "execution_count": 13,
   "metadata": {},
   "outputs": [],
   "source": [
    "f['labels'] = f['labels'].apply(lambda x: labels_map[x] if x in labels_map else -1)"
   ]
  },
  {
   "cell_type": "code",
   "execution_count": 14,
   "metadata": {},
   "outputs": [],
   "source": [
    "f = f[f['labels'] != -1]"
   ]
  },
  {
   "cell_type": "code",
   "execution_count": 24,
   "metadata": {},
   "outputs": [
    {
     "output_type": "execute_result",
     "data": {
      "text/plain": [
       "         labels                                               data\n",
       "0            10  خَليلَيَّ لا تَستَعجِلا أَن تَزَوَّدا    وَأَن...\n",
       "1            10  فَما لَبَثٌ يَوماً بِسابِقٍ مَغنَمٍ    وَلا سُ...\n",
       "2            10  وَإِن تُنظِراني اليَومَ أَقضِ لُبانَةً    وَتَ...\n",
       "3            10  لَعَمرُكَ ما نَفسٌ بِجِدٍ رَشيدَةٍ    تُؤامِرُ...\n",
       "4            10  وَإِن ظَهَرَت مِنهُ قَوارِصُ جَمَّةٌ    وَأَفر...\n",
       "...         ...                                                ...\n",
       "1467114       9  هي أغلى ما أنشأ اللَّه في الدنيا    وأحلى قصيد...\n",
       "1467115       9  هي أغرودة الأغاريد تنساب    كحلم يغشى الجفون ا...\n",
       "1467116       9      هي شلال بهجة وبهاء    يتداعى وجداً ويخفق حسنا\n",
       "1467117       9  هي حلم الهوى ومنطلقي الباقي    يدك الحدود سجنا...\n",
       "1467118       9  هي حبي العاتي وكل غرامي    آه لو أدرك الغرام لجنا\n",
       "\n",
       "[1466446 rows x 2 columns]"
      ],
      "text/html": "<div>\n<style scoped>\n    .dataframe tbody tr th:only-of-type {\n        vertical-align: middle;\n    }\n\n    .dataframe tbody tr th {\n        vertical-align: top;\n    }\n\n    .dataframe thead th {\n        text-align: right;\n    }\n</style>\n<table border=\"1\" class=\"dataframe\">\n  <thead>\n    <tr style=\"text-align: right;\">\n      <th></th>\n      <th>labels</th>\n      <th>data</th>\n    </tr>\n  </thead>\n  <tbody>\n    <tr>\n      <th>0</th>\n      <td>10</td>\n      <td>خَليلَيَّ لا تَستَعجِلا أَن تَزَوَّدا    وَأَن...</td>\n    </tr>\n    <tr>\n      <th>1</th>\n      <td>10</td>\n      <td>فَما لَبَثٌ يَوماً بِسابِقٍ مَغنَمٍ    وَلا سُ...</td>\n    </tr>\n    <tr>\n      <th>2</th>\n      <td>10</td>\n      <td>وَإِن تُنظِراني اليَومَ أَقضِ لُبانَةً    وَتَ...</td>\n    </tr>\n    <tr>\n      <th>3</th>\n      <td>10</td>\n      <td>لَعَمرُكَ ما نَفسٌ بِجِدٍ رَشيدَةٍ    تُؤامِرُ...</td>\n    </tr>\n    <tr>\n      <th>4</th>\n      <td>10</td>\n      <td>وَإِن ظَهَرَت مِنهُ قَوارِصُ جَمَّةٌ    وَأَفر...</td>\n    </tr>\n    <tr>\n      <th>...</th>\n      <td>...</td>\n      <td>...</td>\n    </tr>\n    <tr>\n      <th>1467114</th>\n      <td>9</td>\n      <td>هي أغلى ما أنشأ اللَّه في الدنيا    وأحلى قصيد...</td>\n    </tr>\n    <tr>\n      <th>1467115</th>\n      <td>9</td>\n      <td>هي أغرودة الأغاريد تنساب    كحلم يغشى الجفون ا...</td>\n    </tr>\n    <tr>\n      <th>1467116</th>\n      <td>9</td>\n      <td>هي شلال بهجة وبهاء    يتداعى وجداً ويخفق حسنا</td>\n    </tr>\n    <tr>\n      <th>1467117</th>\n      <td>9</td>\n      <td>هي حلم الهوى ومنطلقي الباقي    يدك الحدود سجنا...</td>\n    </tr>\n    <tr>\n      <th>1467118</th>\n      <td>9</td>\n      <td>هي حبي العاتي وكل غرامي    آه لو أدرك الغرام لجنا</td>\n    </tr>\n  </tbody>\n</table>\n<p>1466446 rows × 2 columns</p>\n</div>"
     },
     "metadata": {},
     "execution_count": 24
    }
   ],
   "source": [
    "f"
   ]
  },
  {
   "cell_type": "code",
   "execution_count": 30,
   "metadata": {},
   "outputs": [],
   "source": [
    "s = f['data'][0]"
   ]
  },
  {
   "cell_type": "code",
   "execution_count": 36,
   "metadata": {},
   "outputs": [
    {
     "output_type": "stream",
     "name": "stderr",
     "text": [
      "ipykernel_launcher:1: SettingWithCopyWarning: \nA value is trying to be set on a copy of a slice from a DataFrame.\nTry using .loc[row_indexer,col_indexer] = value instead\n\nSee the caveats in the documentation: https://pandas.pydata.org/pandas-docs/stable/user_guide/indexing.html#returning-a-view-versus-a-copy\n"
     ]
    }
   ],
   "source": [
    "f['data'] = f['data'].apply(lambda x: re.sub(r'    ', ' # ', x))"
   ]
  },
  {
   "cell_type": "code",
   "execution_count": 15,
   "metadata": {},
   "outputs": [],
   "source": [
    "#f.to_csv('extra_train.csv', index=False)"
   ]
  },
  {
   "cell_type": "code",
   "execution_count": null,
   "metadata": {},
   "outputs": [],
   "source": []
  }
 ]
}